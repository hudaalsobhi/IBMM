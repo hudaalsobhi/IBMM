{
 "cells": [
  {
   "cell_type": "code",
   "execution_count": 1,
   "metadata": {},
   "outputs": [],
   "source": [
    "import tensorflow as tf\n",
    "from tensorflow.keras import layers\n",
    "import pandas as pd\n",
    "import numpy as np\n",
    "from tensorflow.keras import datasets, layers, models\n",
    "from tensorflow.keras.utils import to_categorical\n",
    "\n"
   ]
  },
  {
   "cell_type": "code",
   "execution_count": 2,
   "metadata": {},
   "outputs": [
    {
     "data": {
      "text/html": [
       "<div>\n",
       "<style scoped>\n",
       "    .dataframe tbody tr th:only-of-type {\n",
       "        vertical-align: middle;\n",
       "    }\n",
       "\n",
       "    .dataframe tbody tr th {\n",
       "        vertical-align: top;\n",
       "    }\n",
       "\n",
       "    .dataframe thead th {\n",
       "        text-align: right;\n",
       "    }\n",
       "</style>\n",
       "<table border=\"1\" class=\"dataframe\">\n",
       "  <thead>\n",
       "    <tr style=\"text-align: right;\">\n",
       "      <th></th>\n",
       "      <th>id</th>\n",
       "      <th>student_name</th>\n",
       "      <th>student_email</th>\n",
       "      <th>student_gender</th>\n",
       "      <th>student_age</th>\n",
       "      <th>student_course</th>\n",
       "      <th>student_degree</th>\n",
       "      <th>course_id</th>\n",
       "      <th>enrolled_course</th>\n",
       "    </tr>\n",
       "  </thead>\n",
       "  <tbody>\n",
       "    <tr>\n",
       "      <th>0</th>\n",
       "      <td>1</td>\n",
       "      <td>Harriet Welch</td>\n",
       "      <td>harriet.welch@outlook.com</td>\n",
       "      <td>Female</td>\n",
       "      <td>33</td>\n",
       "      <td>Business &amp; Management</td>\n",
       "      <td>Bachelor Degree</td>\n",
       "      <td>['MS-4430', 'BM-7543', 'MA-7693', 'CS-8976', '...</td>\n",
       "      <td>MS-4430</td>\n",
       "    </tr>\n",
       "  </tbody>\n",
       "</table>\n",
       "</div>"
      ],
      "text/plain": [
       "   id   student_name              student_email student_gender  student_age  \\\n",
       "0   1  Harriet Welch  harriet.welch@outlook.com         Female           33   \n",
       "\n",
       "          student_course   student_degree  \\\n",
       "0  Business & Management  Bachelor Degree   \n",
       "\n",
       "                                           course_id enrolled_course  \n",
       "0  ['MS-4430', 'BM-7543', 'MA-7693', 'CS-8976', '...         MS-4430  "
      ]
     },
     "execution_count": 2,
     "metadata": {},
     "output_type": "execute_result"
    }
   ],
   "source": [
    "df = pd.read_csv('D:\\Work\\huda\\output.csv', low_memory=False)\n",
    "\n",
    "df.head(1)"
   ]
  },
  {
   "cell_type": "code",
   "execution_count": 3,
   "metadata": {},
   "outputs": [],
   "source": [
    "import ast\n",
    "\n",
    "df.course_id = df.course_id.apply(ast.literal_eval)"
   ]
  },
  {
   "cell_type": "code",
   "execution_count": 4,
   "metadata": {},
   "outputs": [],
   "source": [
    "from sklearn.preprocessing import MultiLabelBinarizer\n",
    "\n",
    "s = df['course_id']\n",
    "\n",
    "mlb = MultiLabelBinarizer()\n",
    "\n",
    "course_dummies = pd.DataFrame(mlb.fit_transform(s),columns=mlb.classes_, index=df.index)"
   ]
  },
  {
   "cell_type": "code",
   "execution_count": 5,
   "metadata": {},
   "outputs": [
    {
     "data": {
      "text/html": [
       "<div>\n",
       "<style scoped>\n",
       "    .dataframe tbody tr th:only-of-type {\n",
       "        vertical-align: middle;\n",
       "    }\n",
       "\n",
       "    .dataframe tbody tr th {\n",
       "        vertical-align: top;\n",
       "    }\n",
       "\n",
       "    .dataframe thead th {\n",
       "        text-align: right;\n",
       "    }\n",
       "</style>\n",
       "<table border=\"1\" class=\"dataframe\">\n",
       "  <thead>\n",
       "    <tr style=\"text-align: right;\">\n",
       "      <th></th>\n",
       "      <th>id</th>\n",
       "      <th>student_age</th>\n",
       "      <th>course_id</th>\n",
       "      <th>enrolled_course</th>\n",
       "      <th>BA-5120</th>\n",
       "      <th>BA-6633</th>\n",
       "      <th>BA-7701</th>\n",
       "      <th>BA-8090</th>\n",
       "      <th>BA-8551</th>\n",
       "      <th>BA-9801</th>\n",
       "      <th>...</th>\n",
       "      <th>student_course_Computer Science and Arts</th>\n",
       "      <th>student_course_Education</th>\n",
       "      <th>student_course_Engineering</th>\n",
       "      <th>student_course_Law</th>\n",
       "      <th>student_course_Medicine</th>\n",
       "      <th>student_course_Nursing</th>\n",
       "      <th>student_course_Science</th>\n",
       "      <th>student_degree_Bachelor Degree</th>\n",
       "      <th>student_degree_Doctorate Degree</th>\n",
       "      <th>student_degree_Master Degree</th>\n",
       "    </tr>\n",
       "  </thead>\n",
       "  <tbody>\n",
       "    <tr>\n",
       "      <th>0</th>\n",
       "      <td>1</td>\n",
       "      <td>33</td>\n",
       "      <td>[MS-4430, BM-7543, MA-7693, CS-8976, BZ-6600, ...</td>\n",
       "      <td>MS-4430</td>\n",
       "      <td>0</td>\n",
       "      <td>0</td>\n",
       "      <td>0</td>\n",
       "      <td>0</td>\n",
       "      <td>0</td>\n",
       "      <td>0</td>\n",
       "      <td>...</td>\n",
       "      <td>0</td>\n",
       "      <td>0</td>\n",
       "      <td>0</td>\n",
       "      <td>0</td>\n",
       "      <td>0</td>\n",
       "      <td>0</td>\n",
       "      <td>0</td>\n",
       "      <td>1</td>\n",
       "      <td>0</td>\n",
       "      <td>0</td>\n",
       "    </tr>\n",
       "  </tbody>\n",
       "</table>\n",
       "<p>1 rows × 150 columns</p>\n",
       "</div>"
      ],
      "text/plain": [
       "   id  student_age                                          course_id  \\\n",
       "0   1           33  [MS-4430, BM-7543, MA-7693, CS-8976, BZ-6600, ...   \n",
       "\n",
       "  enrolled_course  BA-5120  BA-6633  BA-7701  BA-8090  BA-8551  BA-9801  ...  \\\n",
       "0         MS-4430        0        0        0        0        0        0  ...   \n",
       "\n",
       "   student_course_Computer Science and Arts  student_course_Education  \\\n",
       "0                                         0                         0   \n",
       "\n",
       "   student_course_Engineering  student_course_Law  student_course_Medicine  \\\n",
       "0                           0                   0                        0   \n",
       "\n",
       "   student_course_Nursing  student_course_Science  \\\n",
       "0                       0                       0   \n",
       "\n",
       "   student_degree_Bachelor Degree  student_degree_Doctorate Degree  \\\n",
       "0                               1                                0   \n",
       "\n",
       "   student_degree_Master Degree  \n",
       "0                             0  \n",
       "\n",
       "[1 rows x 150 columns]"
      ]
     },
     "execution_count": 5,
     "metadata": {},
     "output_type": "execute_result"
    }
   ],
   "source": [
    "df_basic = df[['id', 'student_gender', 'student_age', 'student_course', 'student_degree', 'course_id', 'enrolled_course']]\n",
    "df_new = pd.concat([df_basic, course_dummies], axis=1)\n",
    "df_new = pd.get_dummies(df_new, columns=['student_gender', 'student_course', 'student_degree'])\n",
    "df_new.head(1)"
   ]
  },
  {
   "cell_type": "code",
   "execution_count": 6,
   "metadata": {},
   "outputs": [],
   "source": [
    "from sklearn.preprocessing import LabelEncoder\n",
    "\n",
    "X = df_new.drop(['course_id', 'id', 'enrolled_course'], axis=1)\n",
    "\n",
    "encoder = LabelEncoder()\n",
    "Y = pd.get_dummies(encoder.fit_transform(df_new.enrolled_course)).values\n",
    "y = df_new.enrolled_course"
   ]
  },
  {
   "cell_type": "code",
   "execution_count": 7,
   "metadata": {},
   "outputs": [
    {
     "data": {
      "text/plain": [
       "array(['BA-5120', 'BA-6633', 'BA-7701', 'BA-8090', 'BA-8551', 'BA-9801',\n",
       "       'BB-1629', 'BB-5511', 'BC-0025', 'BC-4400', 'BC-5759', 'BC-7484',\n",
       "       'BD-1110', 'BD-1199', 'BD-4000', 'BD-4878', 'BD-7375', 'BE-2983',\n",
       "       'BE-3311', 'BE-5421', 'BF-3399', 'BF-7263', 'BH-7020', 'BL-2244',\n",
       "       'BL-7247', 'BM-0033', 'BM-0203', 'BM-2211', 'BM-2324', 'BM-7543',\n",
       "       'BM-7565', 'BN-2277', 'BN-5950', 'BN-7775', 'BQ-5533', 'BR-1790',\n",
       "       'BR-5867', 'BS-0318', 'BS-1818', 'BS-6070', 'BS-7230', 'BS-8990',\n",
       "       'BT-1144', 'BV-0035', 'BV-1199', 'BV-4565', 'BZ-6600', 'CA-2090',\n",
       "       'CD-8321', 'CP-2047', 'CS-2314', 'CS-8976', 'DA-4499', 'DA-7979',\n",
       "       'DC-4639', 'DC-5050', 'DC-8010', 'DD-7565', 'DE-0102', 'DE-2211',\n",
       "       'DE-2910', 'DL-1001', 'DL-1090', 'DM-0099', 'DM-7571', 'DQ-3535',\n",
       "       'DS-4771', 'DS-5456', 'DS-7771', 'DT-6020', 'DW-2456', 'DX-3738',\n",
       "       'EN-6721', 'MA-1254', 'MA-2266', 'MA-3601', 'MA-6050', 'MA-6112',\n",
       "       'MA-7693', 'MA-8221', 'MB-0501', 'MB-7766', 'MB-8181', 'MC-0309',\n",
       "       'MC-2024', 'MC-2527', 'MC-3999', 'MC-5050', 'MC-7282', 'MD-0100',\n",
       "       'MD-1219', 'MD-3131', 'MD-4998', 'MD-6699', 'ME-0006', 'ME-0313',\n",
       "       'ME-2039', 'ME-3300', 'ME-7070', 'MF-2400', 'MG-1188', 'MG-3700',\n",
       "       'MH-3920', 'MH-4876', 'MH-6548', 'MH-7577', 'ML-5520', 'MM-4002',\n",
       "       'MN-1143', 'MN-2525', 'MN-2661', 'MO-6050', 'MP-4008', 'MP-6650',\n",
       "       'MQ-0030', 'MQ-2938', 'MR-2717', 'MS-1177', 'MS-3041', 'MS-4430',\n",
       "       'MS-4545', 'MS-5533', 'MS-8780', 'MT-0022', 'MT-4080', 'MT-6325',\n",
       "       'MU-3232', 'MU-5551', 'MV-1090', 'MZ-6611', 'MZ-9600'],\n",
       "      dtype=object)"
      ]
     },
     "execution_count": 7,
     "metadata": {},
     "output_type": "execute_result"
    }
   ],
   "source": [
    "encoder.classes_"
   ]
  },
  {
   "cell_type": "code",
   "execution_count": 14,
   "metadata": {},
   "outputs": [
    {
     "data": {
      "text/plain": [
       "131"
      ]
     },
     "execution_count": 14,
     "metadata": {},
     "output_type": "execute_result"
    }
   ],
   "source": [
    "len(encoder.classes_)"
   ]
  },
  {
   "cell_type": "code",
   "execution_count": 8,
   "metadata": {},
   "outputs": [
    {
     "data": {
      "text/plain": [
       "array([[0, 0, 0, ..., 0, 0, 0],\n",
       "       [0, 0, 0, ..., 0, 0, 0],\n",
       "       [0, 0, 0, ..., 0, 0, 0],\n",
       "       ...,\n",
       "       [0, 0, 0, ..., 0, 0, 0],\n",
       "       [0, 0, 0, ..., 0, 0, 0],\n",
       "       [0, 0, 0, ..., 0, 0, 0]], dtype=uint8)"
      ]
     },
     "execution_count": 8,
     "metadata": {},
     "output_type": "execute_result"
    }
   ],
   "source": [
    "Y"
   ]
  },
  {
   "cell_type": "code",
   "execution_count": 9,
   "metadata": {},
   "outputs": [],
   "source": [
    "from sklearn.model_selection import train_test_split\n",
    "X_train, X_test, y_train, y_test = train_test_split(X, Y, test_size=0.25, random_state=21)\n",
    "_, _, _, _y_test = train_test_split(X, y, test_size=0.25, random_state=21)"
   ]
  },
  {
   "cell_type": "code",
   "execution_count": 10,
   "metadata": {},
   "outputs": [],
   "source": [
    "# pretrained_model = tf.keras.applications.ResNet50(include_top=False)\n",
    "from tensorflow.keras import regularizers\n",
    "\n",
    "model = tf.keras.Sequential([\n",
    "    tf.keras.layers.Dense(64, activation='relu', kernel_regularizer=regularizers.l2(0.001), input_shape=(147,)),\n",
    "    # tf.keras.layers.Dropout(0.5),\n",
    "    # tf.keras.layers.Dense(64, activation='relu', kernel_regularizer=regularizers.l2(0.001)),\n",
    "    # tf.keras.layers.Dropout(0.5),\n",
    "    # tf.keras.layers.Dense(64, activation='relu', kernel_regularizer=regularizers.l2(0.001)),\n",
    "    # tf.keras.layers.Dropout(0.5),\n",
    "    # pretrained_model,\n",
    "    # tf.keras.layers.Dropout(0.5),\n",
    "    tf.keras.layers.Dense(131, activation='softmax')\n",
    "  ])\n",
    "model.compile(loss='categorical_crossentropy', optimizer='Adam', metrics=['accuracy'])"
   ]
  },
  {
   "cell_type": "code",
   "execution_count": 16,
   "metadata": {},
   "outputs": [
    {
     "data": {
      "text/plain": [
       "147"
      ]
     },
     "execution_count": 16,
     "metadata": {},
     "output_type": "execute_result"
    }
   ],
   "source": [
    "len(X_train.columns)"
   ]
  },
  {
   "cell_type": "code",
   "execution_count": 73,
   "metadata": {},
   "outputs": [
    {
     "name": "stdout",
     "output_type": "stream",
     "text": [
      "Epoch 1/10\n",
      "150/150 [==============================] - 1s 2ms/step - loss: 5.1577 - accuracy: 0.0107\n",
      "Epoch 2/10\n",
      "150/150 [==============================] - 0s 1ms/step - loss: 4.7935 - accuracy: 0.0327\n",
      "Epoch 3/10\n",
      "150/150 [==============================] - 0s 2ms/step - loss: 4.6716 - accuracy: 0.0672\n",
      "Epoch 4/10\n",
      "150/150 [==============================] - 0s 2ms/step - loss: 4.5546 - accuracy: 0.1111\n",
      "Epoch 5/10\n",
      "150/150 [==============================] - 0s 1ms/step - loss: 4.4377 - accuracy: 0.1480\n",
      "Epoch 6/10\n",
      "150/150 [==============================] - 0s 1ms/step - loss: 4.3262 - accuracy: 0.1647\n",
      "Epoch 7/10\n",
      "150/150 [==============================] - 0s 2ms/step - loss: 4.2138 - accuracy: 0.1857\n",
      "Epoch 8/10\n",
      "150/150 [==============================] - 0s 2ms/step - loss: 4.0982 - accuracy: 0.2031\n",
      "Epoch 9/10\n",
      "150/150 [==============================] - 0s 2ms/step - loss: 3.9801 - accuracy: 0.2129\n",
      "Epoch 10/10\n",
      "150/150 [==============================] - 0s 2ms/step - loss: 3.8706 - accuracy: 0.2223\n"
     ]
    },
    {
     "data": {
      "text/plain": [
       "<keras.callbacks.History at 0x1b1b1b1fc70>"
      ]
     },
     "execution_count": 73,
     "metadata": {},
     "output_type": "execute_result"
    }
   ],
   "source": [
    "model.fit(X_train, y_train, batch_size=50, epochs=10)"
   ]
  },
  {
   "cell_type": "code",
   "execution_count": 74,
   "metadata": {},
   "outputs": [
    {
     "name": "stdout",
     "output_type": "stream",
     "text": [
      "79/79 [==============================] - 0s 2ms/step\n",
      "79/79 [==============================] - 0s 1ms/step\n"
     ]
    },
    {
     "data": {
      "text/plain": [
       "array([52, 86, 15, ..., 37, 76, 48], dtype=int64)"
      ]
     },
     "execution_count": 74,
     "metadata": {},
     "output_type": "execute_result"
    }
   ],
   "source": [
    "y_pred = model.predict(X_test)\n",
    "y_pred_class = np.argmax(model.predict(X_test), axis=-1)\n",
    "y_pred_class"
   ]
  },
  {
   "cell_type": "code",
   "execution_count": 75,
   "metadata": {},
   "outputs": [
    {
     "name": "stdout",
     "output_type": "stream",
     "text": [
      "[52 86 15 ... 37 76 48]\n"
     ]
    }
   ],
   "source": [
    "print(y_pred_class)"
   ]
  },
  {
   "cell_type": "code",
   "execution_count": 83,
   "metadata": {},
   "outputs": [
    {
     "data": {
      "text/plain": [
       "array(['DA-4499', 'MC-3999', 'BD-4878', ..., 'BS-0318', 'MA-6050',\n",
       "       'CD-8321'], dtype=object)"
      ]
     },
     "execution_count": 83,
     "metadata": {},
     "output_type": "execute_result"
    }
   ],
   "source": [
    "y_pred_class_labels = encoder.inverse_transform(y_pred_class)\n",
    "y_pred_class_labels"
   ]
  },
  {
   "cell_type": "code",
   "execution_count": 84,
   "metadata": {},
   "outputs": [
    {
     "name": "stderr",
     "output_type": "stream",
     "text": [
      "d:\\Work\\venvs\\ds\\lib\\site-packages\\sklearn\\metrics\\_classification.py:1308: UndefinedMetricWarning: Precision and F-score are ill-defined and being set to 0.0 in labels with no predicted samples. Use `zero_division` parameter to control this behavior.\n",
      "  _warn_prf(average, modifier, msg_start, len(result))\n",
      "d:\\Work\\venvs\\ds\\lib\\site-packages\\sklearn\\metrics\\_classification.py:1308: UndefinedMetricWarning: Precision and F-score are ill-defined and being set to 0.0 in labels with no predicted samples. Use `zero_division` parameter to control this behavior.\n",
      "  _warn_prf(average, modifier, msg_start, len(result))\n",
      "d:\\Work\\venvs\\ds\\lib\\site-packages\\sklearn\\metrics\\_classification.py:1308: UndefinedMetricWarning: Precision and F-score are ill-defined and being set to 0.0 in labels with no predicted samples. Use `zero_division` parameter to control this behavior.\n",
      "  _warn_prf(average, modifier, msg_start, len(result))\n"
     ]
    }
   ],
   "source": [
    "from sklearn.metrics import classification_report\n",
    "report = pd.DataFrame(classification_report(_y_test, y_pred_class_labels, output_dict=True)).transpose()"
   ]
  },
  {
   "cell_type": "code",
   "execution_count": 86,
   "metadata": {},
   "outputs": [],
   "source": [
    "report.to_csv('dl_cm.csv')"
   ]
  },
  {
   "cell_type": "code",
   "execution_count": null,
   "metadata": {},
   "outputs": [],
   "source": []
  }
 ],
 "metadata": {
  "kernelspec": {
   "display_name": "ds1",
   "language": "python",
   "name": "python3"
  },
  "language_info": {
   "codemirror_mode": {
    "name": "ipython",
    "version": 3
   },
   "file_extension": ".py",
   "mimetype": "text/x-python",
   "name": "python",
   "nbconvert_exporter": "python",
   "pygments_lexer": "ipython3",
   "version": "3.8.10"
  },
  "orig_nbformat": 4,
  "vscode": {
   "interpreter": {
    "hash": "6c59a8ca98cb69499b1aa72d285a62900b4932b5f6e0bacfb83ab0d179caa11b"
   }
  }
 },
 "nbformat": 4,
 "nbformat_minor": 2
}
