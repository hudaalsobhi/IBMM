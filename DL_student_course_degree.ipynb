{
 "cells": [
  {
   "cell_type": "code",
   "execution_count": 1,
   "metadata": {},
   "outputs": [],
   "source": [
    "import tensorflow as tf\n",
    "from tensorflow.keras import layers\n",
    "import pandas as pd\n",
    "import numpy as np\n",
    "from tensorflow.keras import datasets, layers, models\n",
    "from tensorflow.keras.utils import to_categorical\n",
    "\n"
   ]
  },
  {
   "cell_type": "code",
   "execution_count": 4,
   "metadata": {},
   "outputs": [
    {
     "data": {
      "text/html": [
       "<div>\n",
       "<style scoped>\n",
       "    .dataframe tbody tr th:only-of-type {\n",
       "        vertical-align: middle;\n",
       "    }\n",
       "\n",
       "    .dataframe tbody tr th {\n",
       "        vertical-align: top;\n",
       "    }\n",
       "\n",
       "    .dataframe thead th {\n",
       "        text-align: right;\n",
       "    }\n",
       "</style>\n",
       "<table border=\"1\" class=\"dataframe\">\n",
       "  <thead>\n",
       "    <tr style=\"text-align: right;\">\n",
       "      <th></th>\n",
       "      <th>id</th>\n",
       "      <th>student_name</th>\n",
       "      <th>student_email</th>\n",
       "      <th>student_gender</th>\n",
       "      <th>student_age</th>\n",
       "      <th>student_course</th>\n",
       "      <th>student_degree</th>\n",
       "      <th>course_id</th>\n",
       "      <th>enrolled_course</th>\n",
       "    </tr>\n",
       "  </thead>\n",
       "  <tbody>\n",
       "    <tr>\n",
       "      <th>0</th>\n",
       "      <td>1</td>\n",
       "      <td>Gloria Stone</td>\n",
       "      <td>gloria.stone@outlook.com</td>\n",
       "      <td>Male</td>\n",
       "      <td>19</td>\n",
       "      <td>Computer Science &amp; Information Technology</td>\n",
       "      <td>Doctorate Degree</td>\n",
       "      <td>['MN-2661', 'DS-4771']</td>\n",
       "      <td>DS-4771</td>\n",
       "    </tr>\n",
       "  </tbody>\n",
       "</table>\n",
       "</div>"
      ],
      "text/plain": [
       "   id  student_name             student_email student_gender  student_age  \\\n",
       "0   1  Gloria Stone  gloria.stone@outlook.com           Male           19   \n",
       "\n",
       "                              student_course    student_degree  \\\n",
       "0  Computer Science & Information Technology  Doctorate Degree   \n",
       "\n",
       "                course_id enrolled_course  \n",
       "0  ['MN-2661', 'DS-4771']         DS-4771  "
      ]
     },
     "execution_count": 4,
     "metadata": {},
     "output_type": "execute_result"
    }
   ],
   "source": [
    "df = pd.read_csv('e:\\Work\\huda\\output.csv', low_memory=False)\n",
    "\n",
    "df.head(1)"
   ]
  },
  {
   "cell_type": "code",
   "execution_count": 5,
   "metadata": {},
   "outputs": [
    {
     "data": {
      "text/html": [
       "<div>\n",
       "<style scoped>\n",
       "    .dataframe tbody tr th:only-of-type {\n",
       "        vertical-align: middle;\n",
       "    }\n",
       "\n",
       "    .dataframe tbody tr th {\n",
       "        vertical-align: top;\n",
       "    }\n",
       "\n",
       "    .dataframe thead th {\n",
       "        text-align: right;\n",
       "    }\n",
       "</style>\n",
       "<table border=\"1\" class=\"dataframe\">\n",
       "  <thead>\n",
       "    <tr style=\"text-align: right;\">\n",
       "      <th></th>\n",
       "      <th>id</th>\n",
       "      <th>student_course</th>\n",
       "      <th>student_degree</th>\n",
       "      <th>course_id</th>\n",
       "      <th>enrolled_course</th>\n",
       "    </tr>\n",
       "  </thead>\n",
       "  <tbody>\n",
       "    <tr>\n",
       "      <th>0</th>\n",
       "      <td>1</td>\n",
       "      <td>Computer Science &amp; Information Technology</td>\n",
       "      <td>Doctorate Degree</td>\n",
       "      <td>['MN-2661', 'DS-4771']</td>\n",
       "      <td>DS-4771</td>\n",
       "    </tr>\n",
       "  </tbody>\n",
       "</table>\n",
       "</div>"
      ],
      "text/plain": [
       "   id                             student_course    student_degree  \\\n",
       "0   1  Computer Science & Information Technology  Doctorate Degree   \n",
       "\n",
       "                course_id enrolled_course  \n",
       "0  ['MN-2661', 'DS-4771']         DS-4771  "
      ]
     },
     "execution_count": 5,
     "metadata": {},
     "output_type": "execute_result"
    }
   ],
   "source": [
    "df = df.drop(['student_gender', 'student_age', 'student_name', 'student_email'], axis=1)\n",
    "df.head(1)"
   ]
  },
  {
   "cell_type": "code",
   "execution_count": 6,
   "metadata": {},
   "outputs": [],
   "source": [
    "import ast\n",
    "\n",
    "df.course_id = df.course_id.apply(ast.literal_eval)"
   ]
  },
  {
   "cell_type": "code",
   "execution_count": 7,
   "metadata": {},
   "outputs": [],
   "source": [
    "from sklearn.preprocessing import MultiLabelBinarizer\n",
    "\n",
    "s = df['course_id']\n",
    "\n",
    "mlb = MultiLabelBinarizer()\n",
    "\n",
    "course_dummies = pd.DataFrame(mlb.fit_transform(s),columns=mlb.classes_, index=df.index)"
   ]
  },
  {
   "cell_type": "code",
   "execution_count": 8,
   "metadata": {},
   "outputs": [
    {
     "data": {
      "text/html": [
       "<div>\n",
       "<style scoped>\n",
       "    .dataframe tbody tr th:only-of-type {\n",
       "        vertical-align: middle;\n",
       "    }\n",
       "\n",
       "    .dataframe tbody tr th {\n",
       "        vertical-align: top;\n",
       "    }\n",
       "\n",
       "    .dataframe thead th {\n",
       "        text-align: right;\n",
       "    }\n",
       "</style>\n",
       "<table border=\"1\" class=\"dataframe\">\n",
       "  <thead>\n",
       "    <tr style=\"text-align: right;\">\n",
       "      <th></th>\n",
       "      <th>id</th>\n",
       "      <th>course_id</th>\n",
       "      <th>enrolled_course</th>\n",
       "      <th>BA-5120</th>\n",
       "      <th>BA-6633</th>\n",
       "      <th>BA-7701</th>\n",
       "      <th>BA-8090</th>\n",
       "      <th>BA-8551</th>\n",
       "      <th>BA-9801</th>\n",
       "      <th>BB-1629</th>\n",
       "      <th>...</th>\n",
       "      <th>student_course_Computer Science and Arts</th>\n",
       "      <th>student_course_Education</th>\n",
       "      <th>student_course_Engineering</th>\n",
       "      <th>student_course_Law</th>\n",
       "      <th>student_course_Medicine</th>\n",
       "      <th>student_course_Nursing</th>\n",
       "      <th>student_course_Science</th>\n",
       "      <th>student_degree_Bachelor Degree</th>\n",
       "      <th>student_degree_Doctorate Degree</th>\n",
       "      <th>student_degree_Master Degree</th>\n",
       "    </tr>\n",
       "  </thead>\n",
       "  <tbody>\n",
       "    <tr>\n",
       "      <th>0</th>\n",
       "      <td>1</td>\n",
       "      <td>[MN-2661, DS-4771]</td>\n",
       "      <td>DS-4771</td>\n",
       "      <td>0</td>\n",
       "      <td>0</td>\n",
       "      <td>0</td>\n",
       "      <td>0</td>\n",
       "      <td>0</td>\n",
       "      <td>0</td>\n",
       "      <td>0</td>\n",
       "      <td>...</td>\n",
       "      <td>0</td>\n",
       "      <td>0</td>\n",
       "      <td>0</td>\n",
       "      <td>0</td>\n",
       "      <td>0</td>\n",
       "      <td>0</td>\n",
       "      <td>0</td>\n",
       "      <td>0</td>\n",
       "      <td>1</td>\n",
       "      <td>0</td>\n",
       "    </tr>\n",
       "  </tbody>\n",
       "</table>\n",
       "<p>1 rows × 147 columns</p>\n",
       "</div>"
      ],
      "text/plain": [
       "   id           course_id enrolled_course  BA-5120  BA-6633  BA-7701  BA-8090  \\\n",
       "0   1  [MN-2661, DS-4771]         DS-4771        0        0        0        0   \n",
       "\n",
       "   BA-8551  BA-9801  BB-1629  ...  student_course_Computer Science and Arts  \\\n",
       "0        0        0        0  ...                                         0   \n",
       "\n",
       "   student_course_Education  student_course_Engineering  student_course_Law  \\\n",
       "0                         0                           0                   0   \n",
       "\n",
       "   student_course_Medicine  student_course_Nursing  student_course_Science  \\\n",
       "0                        0                       0                       0   \n",
       "\n",
       "   student_degree_Bachelor Degree  student_degree_Doctorate Degree  \\\n",
       "0                               0                                1   \n",
       "\n",
       "   student_degree_Master Degree  \n",
       "0                             0  \n",
       "\n",
       "[1 rows x 147 columns]"
      ]
     },
     "execution_count": 8,
     "metadata": {},
     "output_type": "execute_result"
    }
   ],
   "source": [
    "df_basic = df[['id', 'course_id', 'enrolled_course', 'student_course', 'student_degree']]\n",
    "df_new = pd.concat([df_basic, course_dummies], axis=1)\n",
    "df_new = pd.get_dummies(df_new, columns=['student_course', 'student_degree'])\n",
    "df_new.head(1)"
   ]
  },
  {
   "cell_type": "code",
   "execution_count": 9,
   "metadata": {},
   "outputs": [],
   "source": [
    "from sklearn.preprocessing import LabelEncoder\n",
    "\n",
    "X = df_new.drop(['course_id', 'id', 'enrolled_course'], axis=1)\n",
    "\n",
    "encoder = LabelEncoder()\n",
    "Y = pd.get_dummies(encoder.fit_transform(df_new.enrolled_course)).values\n",
    "y = df_new.enrolled_course"
   ]
  },
  {
   "cell_type": "code",
   "execution_count": 10,
   "metadata": {},
   "outputs": [
    {
     "data": {
      "text/plain": [
       "array(['BA-5120', 'BA-6633', 'BA-7701', 'BA-8090', 'BA-8551', 'BA-9801',\n",
       "       'BB-1629', 'BB-5511', 'BC-0025', 'BC-4400', 'BC-5759', 'BC-7484',\n",
       "       'BD-1110', 'BD-1199', 'BD-4000', 'BD-4878', 'BD-7375', 'BE-2983',\n",
       "       'BE-3311', 'BE-5421', 'BF-3399', 'BF-7263', 'BH-7020', 'BL-2244',\n",
       "       'BL-7247', 'BM-0033', 'BM-0203', 'BM-2211', 'BM-2324', 'BM-7543',\n",
       "       'BM-7565', 'BN-2277', 'BN-5950', 'BN-7775', 'BQ-5533', 'BR-1790',\n",
       "       'BR-5867', 'BS-0318', 'BS-1818', 'BS-6070', 'BS-7230', 'BS-8990',\n",
       "       'BT-1144', 'BV-0035', 'BV-1199', 'BV-4565', 'BZ-6600', 'CA-2090',\n",
       "       'CD-8321', 'CP-2047', 'CS-2314', 'CS-8976', 'DA-4499', 'DA-7979',\n",
       "       'DC-4639', 'DC-5050', 'DC-8010', 'DD-7565', 'DE-0102', 'DE-2211',\n",
       "       'DE-2910', 'DL-1001', 'DL-1090', 'DM-0099', 'DM-7571', 'DQ-3535',\n",
       "       'DS-4771', 'DS-5456', 'DS-7771', 'DT-6020', 'DW-2456', 'DX-3738',\n",
       "       'EN-6721', 'MA-1254', 'MA-2266', 'MA-3601', 'MA-6050', 'MA-6112',\n",
       "       'MA-7693', 'MA-8221', 'MB-0501', 'MB-7766', 'MB-8181', 'MC-0309',\n",
       "       'MC-2024', 'MC-2527', 'MC-3999', 'MC-5050', 'MC-7282', 'MD-0100',\n",
       "       'MD-1219', 'MD-3131', 'MD-4998', 'MD-6699', 'ME-0006', 'ME-0313',\n",
       "       'ME-2039', 'ME-3300', 'ME-7070', 'MF-2400', 'MG-1188', 'MG-3700',\n",
       "       'MH-3920', 'MH-4876', 'MH-6548', 'MH-7577', 'ML-5520', 'MM-4002',\n",
       "       'MN-1143', 'MN-2525', 'MN-2661', 'MO-6050', 'MP-4008', 'MP-6650',\n",
       "       'MQ-0030', 'MQ-2938', 'MR-2717', 'MS-1177', 'MS-3041', 'MS-4430',\n",
       "       'MS-4545', 'MS-5533', 'MS-8780', 'MT-0022', 'MT-4080', 'MT-6325',\n",
       "       'MU-3232', 'MU-5551', 'MV-1090', 'MZ-6611', 'MZ-9600'],\n",
       "      dtype=object)"
      ]
     },
     "execution_count": 10,
     "metadata": {},
     "output_type": "execute_result"
    }
   ],
   "source": [
    "encoder.classes_"
   ]
  },
  {
   "cell_type": "code",
   "execution_count": 11,
   "metadata": {},
   "outputs": [
    {
     "data": {
      "text/plain": [
       "array([[0, 0, 0, ..., 0, 0, 0],\n",
       "       [0, 0, 0, ..., 0, 0, 0],\n",
       "       [0, 0, 0, ..., 0, 0, 0],\n",
       "       ...,\n",
       "       [0, 0, 0, ..., 0, 0, 0],\n",
       "       [0, 0, 0, ..., 0, 0, 0],\n",
       "       [0, 0, 0, ..., 0, 0, 0]], dtype=uint8)"
      ]
     },
     "execution_count": 11,
     "metadata": {},
     "output_type": "execute_result"
    }
   ],
   "source": [
    "Y"
   ]
  },
  {
   "cell_type": "code",
   "execution_count": 12,
   "metadata": {},
   "outputs": [],
   "source": [
    "from sklearn.model_selection import train_test_split\n",
    "X_train, X_test, y_train, y_test = train_test_split(X, Y, test_size=0.25, random_state=21)\n",
    "_, _, _, _y_test = train_test_split(X, y, test_size=0.25, random_state=21)"
   ]
  },
  {
   "cell_type": "code",
   "execution_count": 13,
   "metadata": {},
   "outputs": [
    {
     "data": {
      "text/plain": [
       "144"
      ]
     },
     "execution_count": 13,
     "metadata": {},
     "output_type": "execute_result"
    }
   ],
   "source": [
    "len(X_train.columns)"
   ]
  },
  {
   "cell_type": "code",
   "execution_count": 14,
   "metadata": {},
   "outputs": [],
   "source": [
    "# pretrained_model = tf.keras.applications.ResNet50(include_top=False)\n",
    "from tensorflow.keras import regularizers\n",
    "\n",
    "model = tf.keras.Sequential([\n",
    "    tf.keras.layers.Dense(64, activation='relu', kernel_regularizer=regularizers.l2(0.001), input_shape=(144,)),\n",
    "    tf.keras.layers.Dropout(0.5),\n",
    "    tf.keras.layers.Dense(64, activation='relu', kernel_regularizer=regularizers.l2(0.001)),\n",
    "    tf.keras.layers.Dropout(0.5),\n",
    "    # tf.keras.layers.Dense(64, activation='relu', kernel_regularizer=regularizers.l2(0.001)),\n",
    "    # tf.keras.layers.Dropout(0.5),\n",
    "    # pretrained_model,\n",
    "    # tf.keras.layers.Dropout(0.5),\n",
    "    tf.keras.layers.Dense(131, activation='softmax')\n",
    "  ])\n",
    "model.compile(loss='categorical_crossentropy', optimizer='Adam', metrics=['accuracy'])"
   ]
  },
  {
   "cell_type": "code",
   "execution_count": 15,
   "metadata": {},
   "outputs": [
    {
     "name": "stdout",
     "output_type": "stream",
     "text": [
      "Epoch 1/15\n",
      "150/150 [==============================] - 2s 2ms/step - loss: 4.9737 - accuracy: 0.0147\n",
      "Epoch 2/15\n",
      "150/150 [==============================] - 0s 2ms/step - loss: 4.8347 - accuracy: 0.0351\n",
      "Epoch 3/15\n",
      "150/150 [==============================] - 0s 1ms/step - loss: 4.5952 - accuracy: 0.0760\n",
      "Epoch 4/15\n",
      "150/150 [==============================] - 0s 1ms/step - loss: 4.3280 - accuracy: 0.1151\n",
      "Epoch 5/15\n",
      "150/150 [==============================] - 0s 1ms/step - loss: 4.1299 - accuracy: 0.1387\n",
      "Epoch 6/15\n",
      "150/150 [==============================] - 0s 1ms/step - loss: 3.9508 - accuracy: 0.1789\n",
      "Epoch 7/15\n",
      "150/150 [==============================] - 0s 2ms/step - loss: 3.8539 - accuracy: 0.1856\n",
      "Epoch 8/15\n",
      "150/150 [==============================] - 0s 1ms/step - loss: 3.7661 - accuracy: 0.2068\n",
      "Epoch 9/15\n",
      "150/150 [==============================] - 0s 2ms/step - loss: 3.7035 - accuracy: 0.2148\n",
      "Epoch 10/15\n",
      "150/150 [==============================] - 0s 1ms/step - loss: 3.6385 - accuracy: 0.2247\n",
      "Epoch 11/15\n",
      "150/150 [==============================] - 0s 2ms/step - loss: 3.6184 - accuracy: 0.2316\n",
      "Epoch 12/15\n",
      "150/150 [==============================] - 0s 1ms/step - loss: 3.5607 - accuracy: 0.2427\n",
      "Epoch 13/15\n",
      "150/150 [==============================] - 0s 1ms/step - loss: 3.5648 - accuracy: 0.2401\n",
      "Epoch 14/15\n",
      "150/150 [==============================] - 0s 2ms/step - loss: 3.5193 - accuracy: 0.2475\n",
      "Epoch 15/15\n",
      "150/150 [==============================] - 0s 2ms/step - loss: 3.4900 - accuracy: 0.2555\n"
     ]
    },
    {
     "data": {
      "text/plain": [
       "<keras.callbacks.History at 0x26535611580>"
      ]
     },
     "execution_count": 15,
     "metadata": {},
     "output_type": "execute_result"
    }
   ],
   "source": [
    "model.fit(X_train, y_train, batch_size=50, epochs=15)"
   ]
  },
  {
   "cell_type": "code",
   "execution_count": 16,
   "metadata": {},
   "outputs": [
    {
     "name": "stdout",
     "output_type": "stream",
     "text": [
      "79/79 [==============================] - 0s 1ms/step\n",
      "79/79 [==============================] - 0s 1ms/step\n"
     ]
    },
    {
     "data": {
      "text/plain": [
       "array([ 78,  13, 125, ...,  60, 111,  28], dtype=int64)"
      ]
     },
     "execution_count": 16,
     "metadata": {},
     "output_type": "execute_result"
    }
   ],
   "source": [
    "y_pred = model.predict(X_test)\n",
    "y_pred_class = np.argmax(model.predict(X_test), axis=-1)\n",
    "y_pred_class"
   ]
  },
  {
   "cell_type": "code",
   "execution_count": 17,
   "metadata": {},
   "outputs": [
    {
     "name": "stdout",
     "output_type": "stream",
     "text": [
      "[ 78  13 125 ...  60 111  28]\n"
     ]
    }
   ],
   "source": [
    "print(y_pred_class)"
   ]
  },
  {
   "cell_type": "code",
   "execution_count": 18,
   "metadata": {},
   "outputs": [
    {
     "data": {
      "text/plain": [
       "array(['MA-7693', 'BD-1199', 'MT-6325', ..., 'DE-2910', 'MO-6050',\n",
       "       'BM-2324'], dtype=object)"
      ]
     },
     "execution_count": 18,
     "metadata": {},
     "output_type": "execute_result"
    }
   ],
   "source": [
    "y_pred_class_labels = encoder.inverse_transform(y_pred_class)\n",
    "y_pred_class_labels"
   ]
  },
  {
   "cell_type": "code",
   "execution_count": 19,
   "metadata": {},
   "outputs": [
    {
     "name": "stderr",
     "output_type": "stream",
     "text": [
      "e:\\venvs\\ds1\\lib\\site-packages\\sklearn\\metrics\\_classification.py:1344: UndefinedMetricWarning: Precision and F-score are ill-defined and being set to 0.0 in labels with no predicted samples. Use `zero_division` parameter to control this behavior.\n",
      "  _warn_prf(average, modifier, msg_start, len(result))\n",
      "e:\\venvs\\ds1\\lib\\site-packages\\sklearn\\metrics\\_classification.py:1344: UndefinedMetricWarning: Precision and F-score are ill-defined and being set to 0.0 in labels with no predicted samples. Use `zero_division` parameter to control this behavior.\n",
      "  _warn_prf(average, modifier, msg_start, len(result))\n",
      "e:\\venvs\\ds1\\lib\\site-packages\\sklearn\\metrics\\_classification.py:1344: UndefinedMetricWarning: Precision and F-score are ill-defined and being set to 0.0 in labels with no predicted samples. Use `zero_division` parameter to control this behavior.\n",
      "  _warn_prf(average, modifier, msg_start, len(result))\n"
     ]
    }
   ],
   "source": [
    "from sklearn.metrics import classification_report\n",
    "report = pd.DataFrame(classification_report(_y_test, y_pred_class_labels, output_dict=True)).transpose()"
   ]
  },
  {
   "cell_type": "code",
   "execution_count": 18,
   "metadata": {},
   "outputs": [],
   "source": [
    "report.to_csv('dl_cm_student_course_degree.csv')"
   ]
  },
  {
   "cell_type": "code",
   "execution_count": 20,
   "metadata": {},
   "outputs": [
    {
     "data": {
      "text/html": [
       "<div>\n",
       "<style scoped>\n",
       "    .dataframe tbody tr th:only-of-type {\n",
       "        vertical-align: middle;\n",
       "    }\n",
       "\n",
       "    .dataframe tbody tr th {\n",
       "        vertical-align: top;\n",
       "    }\n",
       "\n",
       "    .dataframe thead th {\n",
       "        text-align: right;\n",
       "    }\n",
       "</style>\n",
       "<table border=\"1\" class=\"dataframe\">\n",
       "  <thead>\n",
       "    <tr style=\"text-align: right;\">\n",
       "      <th></th>\n",
       "      <th>precision</th>\n",
       "      <th>recall</th>\n",
       "      <th>f1-score</th>\n",
       "      <th>support</th>\n",
       "    </tr>\n",
       "  </thead>\n",
       "  <tbody>\n",
       "    <tr>\n",
       "      <th>BA-5120</th>\n",
       "      <td>0.555556</td>\n",
       "      <td>1.000000</td>\n",
       "      <td>0.714286</td>\n",
       "      <td>20.0000</td>\n",
       "    </tr>\n",
       "    <tr>\n",
       "      <th>BA-6633</th>\n",
       "      <td>0.625000</td>\n",
       "      <td>0.500000</td>\n",
       "      <td>0.555556</td>\n",
       "      <td>20.0000</td>\n",
       "    </tr>\n",
       "    <tr>\n",
       "      <th>BA-7701</th>\n",
       "      <td>0.000000</td>\n",
       "      <td>0.000000</td>\n",
       "      <td>0.000000</td>\n",
       "      <td>24.0000</td>\n",
       "    </tr>\n",
       "    <tr>\n",
       "      <th>BA-8090</th>\n",
       "      <td>0.650000</td>\n",
       "      <td>0.619048</td>\n",
       "      <td>0.634146</td>\n",
       "      <td>21.0000</td>\n",
       "    </tr>\n",
       "    <tr>\n",
       "      <th>BA-8551</th>\n",
       "      <td>0.406250</td>\n",
       "      <td>1.000000</td>\n",
       "      <td>0.577778</td>\n",
       "      <td>13.0000</td>\n",
       "    </tr>\n",
       "    <tr>\n",
       "      <th>...</th>\n",
       "      <td>...</td>\n",
       "      <td>...</td>\n",
       "      <td>...</td>\n",
       "      <td>...</td>\n",
       "    </tr>\n",
       "    <tr>\n",
       "      <th>MZ-6611</th>\n",
       "      <td>0.380952</td>\n",
       "      <td>0.800000</td>\n",
       "      <td>0.516129</td>\n",
       "      <td>10.0000</td>\n",
       "    </tr>\n",
       "    <tr>\n",
       "      <th>MZ-9600</th>\n",
       "      <td>0.444444</td>\n",
       "      <td>0.400000</td>\n",
       "      <td>0.421053</td>\n",
       "      <td>20.0000</td>\n",
       "    </tr>\n",
       "    <tr>\n",
       "      <th>accuracy</th>\n",
       "      <td>0.474400</td>\n",
       "      <td>0.474400</td>\n",
       "      <td>0.474400</td>\n",
       "      <td>0.4744</td>\n",
       "    </tr>\n",
       "    <tr>\n",
       "      <th>macro avg</th>\n",
       "      <td>0.467901</td>\n",
       "      <td>0.480935</td>\n",
       "      <td>0.420737</td>\n",
       "      <td>2500.0000</td>\n",
       "    </tr>\n",
       "    <tr>\n",
       "      <th>weighted avg</th>\n",
       "      <td>0.481748</td>\n",
       "      <td>0.474400</td>\n",
       "      <td>0.424291</td>\n",
       "      <td>2500.0000</td>\n",
       "    </tr>\n",
       "  </tbody>\n",
       "</table>\n",
       "<p>134 rows × 4 columns</p>\n",
       "</div>"
      ],
      "text/plain": [
       "              precision    recall  f1-score    support\n",
       "BA-5120        0.555556  1.000000  0.714286    20.0000\n",
       "BA-6633        0.625000  0.500000  0.555556    20.0000\n",
       "BA-7701        0.000000  0.000000  0.000000    24.0000\n",
       "BA-8090        0.650000  0.619048  0.634146    21.0000\n",
       "BA-8551        0.406250  1.000000  0.577778    13.0000\n",
       "...                 ...       ...       ...        ...\n",
       "MZ-6611        0.380952  0.800000  0.516129    10.0000\n",
       "MZ-9600        0.444444  0.400000  0.421053    20.0000\n",
       "accuracy       0.474400  0.474400  0.474400     0.4744\n",
       "macro avg      0.467901  0.480935  0.420737  2500.0000\n",
       "weighted avg   0.481748  0.474400  0.424291  2500.0000\n",
       "\n",
       "[134 rows x 4 columns]"
      ]
     },
     "execution_count": 20,
     "metadata": {},
     "output_type": "execute_result"
    }
   ],
   "source": [
    "report"
   ]
  },
  {
   "cell_type": "code",
   "execution_count": null,
   "metadata": {},
   "outputs": [],
   "source": []
  }
 ],
 "metadata": {
  "kernelspec": {
   "display_name": "ds1",
   "language": "python",
   "name": "python3"
  },
  "language_info": {
   "codemirror_mode": {
    "name": "ipython",
    "version": 3
   },
   "file_extension": ".py",
   "mimetype": "text/x-python",
   "name": "python",
   "nbconvert_exporter": "python",
   "pygments_lexer": "ipython3",
   "version": "3.8.10"
  },
  "orig_nbformat": 4,
  "vscode": {
   "interpreter": {
    "hash": "6c59a8ca98cb69499b1aa72d285a62900b4932b5f6e0bacfb83ab0d179caa11b"
   }
  }
 },
 "nbformat": 4,
 "nbformat_minor": 2
}
